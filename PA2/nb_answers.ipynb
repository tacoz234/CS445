{
 "cells": [
  {
   "cell_type": "markdown",
   "id": "c41ca1ff-7f90-4024-819b-3c0abfdc17b5",
   "metadata": {},
   "source": [
    "# PA2 - Naive Bayes Questions\n",
    "\n",
    "Name: Cole Determan & Ben Berry"
   ]
  },
  {
   "cell_type": "code",
   "execution_count": 2,
   "id": "f0774a5a-1500-44fd-a6b6-3709fc5e63df",
   "metadata": {},
   "outputs": [],
   "source": [
    "# LOAD THE DATA AND TRAIN A CLASSIFIER\n",
    "from naive_bayes import NaiveBayesClassifier, load_and_process_data\n",
    "X_train, y_train = load_and_process_data(\"data_rt_train.csv\")\n",
    "X_test, y_test = load_and_process_data(\"data_rt_test.csv\")\n",
    "nb_classifier = NaiveBayesClassifier()\n",
    "nb_classifier.fit(X_train, y_train)"
   ]
  },
  {
   "cell_type": "markdown",
   "id": "91b91bd3-5c43-4f25-bcda-a5b19dd7a19b",
   "metadata": {},
   "source": [
    "## Problem 1 - The Worst Movie\n",
    "\n",
    "Find the most \"rotten\" movie review among all of the reviews in the test set, as determined by the Naive Bayes classifier that has been trained on the training set. You'll need to make some changes to the code since it currently only provides a class label without returning a score."
   ]
  },
  {
   "cell_type": "markdown",
   "id": "2763af71-b4f9-4b38-af5f-907f23123450",
   "metadata": {},
   "source": [
    "Most Rotten Review (Index 63):\n",
    "Actual Label: 1 (Fresh)\n",
    "Predicted Label: 1 (Fresh)\n",
    "Review Text: \"it's hard to imagine anyone managing to steal a movie not only from charismatic rising star jake gyllenhaal but also from accomplished oscar winners susan sarandon , dustin hoffman and holly hunter , yet newcomer ellen pompeo pulls off the feat with aplomb . \"\n",
    "Rotten Score: -317.8396\n",
    "Fresh Score: -316.0607"
   ]
  },
  {
   "cell_type": "markdown",
   "id": "228fc670-aaae-4213-989e-d4a91384f970",
   "metadata": {},
   "source": [
    "## Problem 2 - Probability of Rottenness\n",
    "\n",
    "Provide the predicted class probability distribution associated with the following review:\n",
    "\n",
    "```\n",
    "Jurassic Park is a cautionary tale about science gone wrong and\n",
    "filmmaking gone lazy. For all its groundbreaking effects, the plot is\n",
    "held together with dino-sized leaps in logic and characters who make\n",
    "decisions so dumb they deserve to be eaten. The kids are annoying, the\n",
    "adults are incompetent, and Jeff Goldblum spends half the movie\n",
    "shirtless and smirking like he’s in a cologne ad. It's less a\n",
    "thrilling adventure and more a theme park ride with a script written\n",
    "on the back of a napkin.\n",
    "```\n",
    "\n",
    "Again, you will need to modify the existing classifier to convert the log-based scores to a normalized probability distribution."
   ]
  },
  {
   "cell_type": "markdown",
   "id": "0ab86463-db9c-4959-a159-88dec46014dc",
   "metadata": {},
   "source": [
    "Jurassic Park Review Analysis:\n",
    "Review length: 493 characters, 69 tokens\n",
    "\n",
    "Probability Distribution:\n",
    "P(Rotten|review) = 0.9998\n",
    "P(Fresh|review) = 0.0002\n",
    "\n",
    "Predicted Class: 0 (Rotten)\n",
    "Raw log scores - Rotten: -526.1166, Fresh: -534.9012"
   ]
  },
  {
   "cell_type": "markdown",
   "id": "76cce569-1183-4e18-b45b-c5672bdd9311",
   "metadata": {},
   "source": [
    "## Problem 3 - ROC Curve\n",
    "\n",
    "Generate an ROC curve using the provided test data, where \"fresh\" is the positive class. This will require determining a score value for every test instance. You should make use of the [sklearn ROC curve](https://scikit-learn.org/stable/modules/generated/sklearn.metrics.roc_curve.html) function in generating your figure."
   ]
  },
  {
   "cell_type": "markdown",
   "id": "884797d8-9b6e-460f-9fd5-ca209183233c",
   "metadata": {},
   "source": [
    "Area Under Curve (AUC): 0.5150"
   ]
  },
  {
   "cell_type": "markdown",
   "id": "75710289-f22c-443b-a9d0-b9335ae60a1a",
   "metadata": {},
   "source": [
    "## Problem 4 - Predictive Words\n",
    "\n",
    "Find the 10 words that, after training, are most indicative of rottenness, and the 10 words that are most indicative of freshness.\n",
    "\n",
    "Answering this requires understanding how class scores are calculated by the classifier:\n",
    "\n",
    "```python\n",
    "       # Calculate scores for each class\n",
    "        for class_label in self.classes:\n",
    "            # Start with log of class prior\n",
    "            log_prob = math.log(self.class_priors[class_label])\n",
    "\n",
    "            # Add log probabilities of usable words only\n",
    "            for word in usable_words:\n",
    "                word_prob = self.word_probs[class_label][word]\n",
    "                log_prob += math.log(word_prob)                  # <------\n",
    "\n",
    "            class_scores[class_label] = log_prob\n",
    "```\n",
    "\n",
    "The indicated line can be seen as a weighted vote associated with one of the words in the review. If the word is more associated with one class than the other, it will have a relatively higher value. The most telling words are the words with the largest difference in their class conditional probabilities between the two classes."
   ]
  },
  {
   "cell_type": "markdown",
   "id": "b56bfc25-016a-4c17-a192-7f62e556726d",
   "metadata": {},
   "source": [
    "10 Most Indicative Words for ROTTEN reviews (class '0'):\n",
    " 1. unfunny         (score:   3.1820)\n",
    " 2. badly           (score:   2.9997)\n",
    " 3. poorly          (score:   2.8372)\n",
    " 4. shoot           (score:   2.7120)\n",
    " 5. bore            (score:   2.6430)\n",
    " 6. disguise        (score:   2.6430)\n",
    " 7. plodding        (score:   2.6430)\n",
    " 8. boring          (score:   2.6430)\n",
    " 9. product         (score:   2.5689)\n",
    "10. seagal          (score:   2.5689)\n",
    "\n",
    "10 Most Indicative Words for FRESH reviews (class '1'):\n",
    " 1. engrossing      (score:   3.1741)\n",
    " 2. riveting        (score:   2.7686)\n",
    " 3. wonderful       (score:   2.5987)\n",
    " 4. spare           (score:   2.5610)\n",
    " 5. gem             (score:   2.5610)\n",
    " 6. vividly         (score:   2.5610)\n",
    " 7. tour            (score:   2.5610)\n",
    " 8. heartbreaking   (score:   2.4809)\n",
    " 9. detailed        (score:   2.4809)\n",
    "10. wonderfully     (score:   2.4809)"
   ]
  },
  {
   "cell_type": "markdown",
   "id": "a9974fb4-1b5f-4e3e-95c3-4e5cc47746c6",
   "metadata": {},
   "source": [
    "## Problem 5 - Writing Deceptive Reviews\n",
    "\n",
    "Write a **positive** movie review that will be classified as **highly negative** by our trained classifier. Provide your review as well as the probability distribution (using the same approach as Problem 2)."
   ]
  },
  {
   "cell_type": "markdown",
   "id": "1b96163d-3b46-4a9f-8463-8f02e7258333",
   "metadata": {},
   "source": [
    "Most rotten-indicative words to potentially use: ['unfunny', 'badly', 'poorly', 'shoot', 'bore', 'disguise', 'plodding', 'boring', 'product', 'seagal', 'benigni', 'tiresome', 'pinocchio', 'pointless', 'amateurish']\n",
    "\n",
    "Deceptive Positive Review:\n",
    "\"This movie is absolutely boring and tedious, but in the most \n",
    "brilliant way possible! The plot is completely silly and stupid, yet somehow \n",
    "manages to be pure genius. Every dull and awful moment is crafted with such \n",
    "terrible precision that it becomes utterly magnificent. The bad acting is \n",
    "so wonderfully horrible that it transcends into art. This mess of a film \n",
    "is beautifully ugly and perfectly imperfect. A truly awful masterpiece \n",
    "that fails so spectacularly it succeeds beyond measure.\"\n",
    "\n",
    "Classifier Results:\n",
    "Predicted Class: 0 (Rotten)\n",
    "Probability Distribution:\n",
    "  P(Rotten|review) = 0.9804\n",
    "  P(Fresh|review) = 0.0196\n",
    "Raw log scores - Rotten: -466.8153, Fresh: -470.7252"
   ]
  }
 ],
 "metadata": {
  "kernelspec": {
   "display_name": "Python 3 (ipykernel)",
   "language": "python",
   "name": "python3"
  },
  "language_info": {
   "codemirror_mode": {
    "name": "ipython",
    "version": 3
   },
   "file_extension": ".py",
   "mimetype": "text/x-python",
   "name": "python",
   "nbconvert_exporter": "python",
   "pygments_lexer": "ipython3",
   "version": "3.12.11"
  }
 },
 "nbformat": 4,
 "nbformat_minor": 5
}
